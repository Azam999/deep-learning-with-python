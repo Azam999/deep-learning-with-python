{
 "cells": [
  {
   "cell_type": "code",
   "execution_count": 2,
   "metadata": {},
   "outputs": [],
   "source": [
    "# regression is continuous\n",
    "# logistic regression is different - it is used for classification"
   ]
  },
  {
   "cell_type": "code",
   "execution_count": 3,
   "metadata": {},
   "outputs": [
    {
     "name": "stdout",
     "output_type": "stream",
     "text": [
      "INFO:tensorflow:Enabling eager execution\n",
      "INFO:tensorflow:Enabling v2 tensorshape\n",
      "INFO:tensorflow:Enabling resource variables\n",
      "INFO:tensorflow:Enabling tensor equality\n",
      "INFO:tensorflow:Enabling control flow v2\n"
     ]
    },
    {
     "data": {
      "text/plain": [
       "array([[1.23247e+00, 0.00000e+00, 8.14000e+00, ..., 2.10000e+01,\n",
       "        3.96900e+02, 1.87200e+01],\n",
       "       [2.17700e-02, 8.25000e+01, 2.03000e+00, ..., 1.47000e+01,\n",
       "        3.95380e+02, 3.11000e+00],\n",
       "       [4.89822e+00, 0.00000e+00, 1.81000e+01, ..., 2.02000e+01,\n",
       "        3.75520e+02, 3.26000e+00],\n",
       "       ...,\n",
       "       [3.46600e-02, 3.50000e+01, 6.06000e+00, ..., 1.69000e+01,\n",
       "        3.62250e+02, 7.83000e+00],\n",
       "       [2.14918e+00, 0.00000e+00, 1.95800e+01, ..., 1.47000e+01,\n",
       "        2.61950e+02, 1.57900e+01],\n",
       "       [1.43900e-02, 6.00000e+01, 2.93000e+00, ..., 1.56000e+01,\n",
       "        3.76700e+02, 4.38000e+00]])"
      ]
     },
     "execution_count": 3,
     "metadata": {},
     "output_type": "execute_result"
    }
   ],
   "source": [
    "from keras.datasets import boston_housing\n",
    "import numpy as np\n",
    "\n",
    "# data, targets\n",
    "# 404 training samples\n",
    "# 102 testing samples\n",
    "(train_data, train_targets), (test_data, test_targets) = boston_housing.load_data()\n",
    "train_data"
   ]
  },
  {
   "cell_type": "code",
   "execution_count": 4,
   "metadata": {},
   "outputs": [],
   "source": [
    "# Normalize the data\n",
    "mean = train_data.mean(axis=0)\n",
    "train_data -= mean\n",
    "std = train_data.std(axis=0)\n",
    "train_data /= std\n",
    "\n",
    "test_data -= mean\n",
    "test_data /= std"
   ]
  },
  {
   "cell_type": "code",
   "execution_count": 5,
   "metadata": {},
   "outputs": [],
   "source": [
    "from keras import models\n",
    "from keras import layers\n",
    "\n",
    "# Number of layers depends on the size of the data. Too many layers can result in overfitting\n",
    "def build_model():\n",
    "  model = models.Sequential()\n",
    "  model.add(layers.Dense(64, activation='relu', input_shape=(train_data.shape[1],)))\n",
    "  model.add(layers.Dense(64, activation='relu'))\n",
    "  model.add(layers.Dense(1))\n",
    "  model.compile(optimizer='rmsprop', loss='mse', metrics=['mae'])\n",
    "  return model"
   ]
  },
  {
   "cell_type": "code",
   "execution_count": 11,
   "metadata": {},
   "outputs": [
    {
     "name": "stdout",
     "output_type": "stream",
     "text": [
      "processing fold # 0\n",
      "processing fold # 1\n",
      "processing fold # 2\n",
      "processing fold # 3\n"
     ]
    }
   ],
   "source": [
    "# K-fold cross-validation\n",
    "\n",
    "k = 4 # number of partitions\n",
    "num_val_samples = len(train_data) // k\n",
    "num_epochs = 80\n",
    "all_mae_histories = []\n",
    "\n",
    "for i in range(k):\n",
    "  print('processing fold #', i)\n",
    "  val_data = train_data[i * num_val_samples: (i + 1) * num_val_samples]\n",
    "  val_targets = train_targets[i * num_val_samples: (i + 1) * num_val_samples]\n",
    "  \n",
    "  partial_train_data = np.concatenate([train_data[: i * num_val_samples], \n",
    "                                       train_data[(i + 1) * num_val_samples:]], axis=0)\n",
    "  partial_train_targets = np.concatenate( [train_targets[:i * num_val_samples],\n",
    "                                           train_targets[(i + 1) * num_val_samples:]], axis=0)\n",
    "  model = build_model()\n",
    "  history = model.fit(partial_train_data, partial_train_targets, validation_data=(val_data, val_targets), epochs=num_epochs, batch_size=1, verbose=0)\n",
    "  mae_history = history.history['val_mae']\n",
    "  all_mae_histories.append(mae_history)"
   ]
  },
  {
   "cell_type": "code",
   "execution_count": 12,
   "metadata": {},
   "outputs": [
    {
     "name": "stdout",
     "output_type": "stream",
     "text": [
      "4/4 [==============================] - 0s 1ms/step - loss: 19.2625 - mae: 2.9371\n"
     ]
    }
   ],
   "source": [
    "model = build_model()\n",
    "model.fit(train_data, train_targets, epochs=80, batch_size=16, verbose=0)\n",
    "test_mse_score, test_mae_score = model.evaluate(test_data, test_targets)"
   ]
  },
  {
   "cell_type": "code",
   "execution_count": 13,
   "metadata": {},
   "outputs": [
    {
     "data": {
      "text/plain": [
       "[4.458531618118286,\n",
       " 3.3941929936408997,\n",
       " 3.0837536454200745,\n",
       " 2.8090009689331055,\n",
       " 2.813463270664215,\n",
       " 2.68290638923645,\n",
       " 2.5917649269104004,\n",
       " 2.683012843132019,\n",
       " 2.639229118824005,\n",
       " 2.45541650056839,\n",
       " 2.5537346601486206,\n",
       " 2.4989969730377197,\n",
       " 2.529866337776184,\n",
       " 2.5240634083747864,\n",
       " 2.6699560284614563,\n",
       " 2.4739776253700256,\n",
       " 2.432852625846863,\n",
       " 2.463369071483612,\n",
       " 2.5722209215164185,\n",
       " 2.4114720225334167,\n",
       " 2.37446466088295,\n",
       " 2.3323713541030884,\n",
       " 2.383516252040863,\n",
       " 2.386283278465271,\n",
       " 2.512395918369293,\n",
       " 2.4315925240516663,\n",
       " 2.536659598350525,\n",
       " 2.474357306957245,\n",
       " 2.298715829849243,\n",
       " 2.360780417919159,\n",
       " 2.4307870864868164,\n",
       " 2.350823074579239,\n",
       " 2.39096862077713,\n",
       " 2.4514657855033875,\n",
       " 2.3774369657039642,\n",
       " 2.4928686022758484,\n",
       " 2.5252004265785217,\n",
       " 2.2993665635585785,\n",
       " 2.3777130842208862,\n",
       " 2.418115198612213,\n",
       " 2.4253779649734497,\n",
       " 2.3695769608020782,\n",
       " 2.4412962198257446,\n",
       " 2.3899113833904266,\n",
       " 2.434637427330017,\n",
       " 2.450994372367859,\n",
       " 2.3013972640037537,\n",
       " 2.294922322034836,\n",
       " 2.4905739426612854,\n",
       " 2.458494782447815,\n",
       " 2.4333963990211487,\n",
       " 2.362058699131012,\n",
       " 2.382878690958023,\n",
       " 2.2643131017684937,\n",
       " 2.4355489015579224,\n",
       " 2.350023627281189,\n",
       " 2.3863649368286133,\n",
       " 2.260531038045883,\n",
       " 2.3242019414901733,\n",
       " 2.293051689863205,\n",
       " 2.3276432752609253,\n",
       " 2.3610220551490784,\n",
       " 2.3499608039855957,\n",
       " 2.328331768512726,\n",
       " 2.4908197224140167,\n",
       " 2.42549204826355,\n",
       " 2.374222010374069,\n",
       " 2.318643271923065,\n",
       " 2.5414400696754456,\n",
       " 2.368839204311371,\n",
       " 2.5924364924430847,\n",
       " 2.53199502825737,\n",
       " 2.4888499975204468,\n",
       " 2.5090451836586,\n",
       " 2.3574480414390564,\n",
       " 2.405770182609558,\n",
       " 2.338940918445587,\n",
       " 2.4514939188957214,\n",
       " 2.358855366706848,\n",
       " 2.4795578122138977]"
      ]
     },
     "execution_count": 13,
     "metadata": {},
     "output_type": "execute_result"
    }
   ],
   "source": [
    "# calculate the mean for the number of epochs\n",
    "average_mae_history = [np.mean([x[i] for x in all_mae_histories]) for i in range(num_epochs)]\n",
    "average_mae_history"
   ]
  },
  {
   "cell_type": "code",
   "execution_count": 14,
   "metadata": {},
   "outputs": [
    {
     "data": {
      "image/png": "[encoded data removed]",
      "text/plain": [
       "<Figure size 432x288 with 1 Axes>"
      ]
     },
     "metadata": {
      "needs_background": "light"
     },
     "output_type": "display_data"
    }
   ],
   "source": [
    "import matplotlib.pyplot as plt\n",
    "\n",
    "plt.plot(range(1, len(average_mae_history) + 1), average_mae_history)\n",
    "plt.xlabel('Epochs')\n",
    "plt.ylabel('Validation MAE')\n",
    "plt.show()"
   ]
  },
  {
   "cell_type": "code",
   "execution_count": null,
   "metadata": {},
   "outputs": [],
   "source": []
  }
 ],
 "metadata": {
  "interpreter": {
   "hash": "ac2eaa0ea0ebeafcc7822e65e46aa9d4f966f30b695406963e145ea4a91cd4fc"
  },
  "kernelspec": {
   "display_name": "",
   "language": "python",
   "name": "python3"
  },
  "language_info": {
   "codemirror_mode": {
    "name": "ipython",
    "version": 3
   },
   "file_extension": ".py",
   "mimetype": "text/x-python",
   "name": "python",
   "nbconvert_exporter": "python",
   "pygments_lexer": "ipython3",
   "version": "3.9.7"
  },
  "orig_nbformat": 4
 },
 "nbformat": 4,
 "nbformat_minor": 2
}
